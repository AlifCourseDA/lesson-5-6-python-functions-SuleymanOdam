{
 "cells": [
  {
   "cell_type": "code",
   "execution_count": 9,
   "id": "aaaea77a",
   "metadata": {},
   "outputs": [
    {
     "name": "stdout",
     "output_type": "stream",
     "text": [
      "Hello,World!\n",
      "None\n",
      "Hello,Yandex!\n",
      "None\n"
     ]
    }
   ],
   "source": [
    "# Функциональное приветствие\n",
    "def print_hello(name):\n",
    "    print(f\"Hello ,{name}!\")\n",
    "    \n",
    "def print_hello(string):\n",
    "    print(f\"Hello,{string}!\")\n",
    "    \n",
    "print(print_hello(\"World\"))\n",
    "print(print_hello(\"Yandex\"))"
   ]
  },
  {
   "cell_type": "code",
   "execution_count": 12,
   "id": "f45cdc26",
   "metadata": {},
   "outputs": [
    {
     "name": "stdout",
     "output_type": "stream",
     "text": [
      "48\n"
     ]
    }
   ],
   "source": [
    "#Функционалный НОД\n",
    "def gcd(a,b):\n",
    "    while b:\n",
    "        a,b = b, a%b\n",
    "    return a\n",
    "result = gcd(144,96)\n",
    "print(result)"
   ]
  },
  {
   "cell_type": "code",
   "execution_count": 14,
   "id": "8d8aaeb4",
   "metadata": {},
   "outputs": [
    {
     "name": "stdout",
     "output_type": "stream",
     "text": [
      "6\n"
     ]
    }
   ],
   "source": [
    "#Длина числа \n",
    "def number_length(num):\n",
    "    num = abs(num)\n",
    "    return len(str(num))\n",
    "\n",
    "result = number_length(-100500)\n",
    "print(result)"
   ]
  },
  {
   "cell_type": "code",
   "execution_count": 18,
   "id": "38e40801",
   "metadata": {},
   "outputs": [
    {
     "name": "stdout",
     "output_type": "stream",
     "text": [
      "Июль\n",
      "January\n"
     ]
    }
   ],
   "source": [
    "#Имя of the month\n",
    "def month(month_number, language):\n",
    "    months_ru = [\"Январь\", \"Февраль\", \"Март\", \"Апрель\", \"Май\", \"Июнь\", \"Июль\", \"Август\", \"Сентябрь\", \"Октябрь\", \"Ноябрь\", \"Декабрь\"]\n",
    "    months_en = [\"January\", \"February\", \"March\", \"April\", \"May\", \"June\", \"July\", \"August\", \"September\", \"October\", \"November\", \"December\"]\n",
    "\n",
    "    if language == \"ru\":\n",
    "        return months_ru[month_number - 1]\n",
    "    elif language == \"en\":\n",
    "        return months_en[month_number - 1]\n",
    "    else:\n",
    "        return \"Unsupported language\"\n",
    "\n",
    "result_ru = month(7,\"ru\")\n",
    "result_en = month(1,\"en\")\n",
    "print(result_ru,result_en,sep=\"\\n\")"
   ]
  },
  {
   "cell_type": "code",
   "execution_count": 21,
   "id": "e767045e",
   "metadata": {},
   "outputs": [
    {
     "name": "stdout",
     "output_type": "stream",
     "text": [
      "(1, -2, 3, -4, 5)\n"
     ]
    }
   ],
   "source": [
    "#Числовая строка\n",
    "def split_numbers(input_string):\n",
    "    numbers_strings = input_string.split()\n",
    "    numbers = tuple(map(int,numbers_strings))\n",
    "    return numbers \n",
    "result = split_numbers(\"1 -2 3 -4 5\")\n",
    "print(result)"
   ]
  },
  {
   "cell_type": "code",
   "execution_count": 22,
   "id": "a73e09c0",
   "metadata": {},
   "outputs": [
    {
     "name": "stdout",
     "output_type": "stream",
     "text": [
      "Hello!\n",
      "How do you do?\n"
     ]
    }
   ],
   "source": [
    "#Модернизация системы вывода\n",
    "print_string = set()\n",
    "def modern_print(input_string):\n",
    "    global print_string\n",
    "    if input_string not in print_string:\n",
    "        print(input_string)\n",
    "        print_string.add(input_string)\n",
    "        \n",
    "modern_print(\"Hello!\")\n",
    "modern_print(\"Hello!\")\n",
    "modern_print(\"How do you do?\")\n",
    "modern_print(\"Hello!\")"
   ]
  },
  {
   "cell_type": "code",
   "execution_count": 24,
   "id": "b1f420fa",
   "metadata": {},
   "outputs": [
    {
     "name": "stdout",
     "output_type": "stream",
     "text": [
      "False\n"
     ]
    }
   ],
   "source": [
    "#Шахматный «обед»\n",
    "def can_eat(horse,other):\n",
    "    x_horse , y_horse = horse\n",
    "    x_other, y_other = other\n",
    "    dx = abs(x_horse - x_other)\n",
    "    dy = abs(y_horse - y_other)\n",
    "    return (dx == 1 and dy == 2) or (dx == 2 and dy == 1)\n",
    "horse = (5,5)\n",
    "other = (6,6)\n",
    "result = can_eat(horse,other)\n",
    "print(result)"
   ]
  },
  {
   "cell_type": "code",
   "execution_count": 30,
   "id": "2056a7bb",
   "metadata": {},
   "outputs": [
    {
     "name": "stdout",
     "output_type": "stream",
     "text": [
      "False\n",
      "False\n"
     ]
    }
   ],
   "source": [
    "#А роза упала на лапу Азора 7.0 \n",
    "def is_palindrome(value):\n",
    "    if not isinstance(value, (int, str, tuple, list)):\n",
    "        raise ValueError(\"Unsupported type. Please provide a natural number, string, tuple, or list.\")\n",
    "\n",
    "    value_str = str(value)\n",
    "    return value_str == value_str[::-1]\n",
    "\n",
    "result1 = is_palindrome(123)\n",
    "result2 = is_palindrome([1,2,1,2,1])\n",
    "print(result1,result2,sep=\"\\n\")"
   ]
  },
  {
   "cell_type": "code",
   "execution_count": 32,
   "id": "89c98f7f",
   "metadata": {},
   "outputs": [
    {
     "name": "stdout",
     "output_type": "stream",
     "text": [
      "True\n",
      "False\n"
     ]
    }
   ],
   "source": [
    "#Простая задача 5.0\n",
    "def is_prime(num):\n",
    "    if num < 2:\n",
    "        return False\n",
    "    for i in range(2, int(num**0.5) + 1):\n",
    "        if num % i == 0:\n",
    "            return False\n",
    "    return True\n",
    "result1 = is_prime(1001459)\n",
    "result2 = is_prime(79701)\n",
    "print(result1,result2,sep=\"\\n\")\n"
   ]
  },
  {
   "cell_type": "markdown",
   "id": "eb5b7e4b",
   "metadata": {},
   "source": [
    "#Слияние\n",
    "def merge(tuple1, tuple2):\n",
    "    result = ()\n",
    "    i, j = 0, 0\n",
    "\n",
    "    while i < len(tuple1) and j < len(tuple2):\n",
    "        if tuple1[i] < tuple2[j]:\n",
    "            result += (tuple1[i],)\n",
    "            i += 1\n",
    "        else:\n",
    "            result += (tuple2[j],)\n",
    "            j += 1\n",
    "\n",
    "    result += tuple1[i:]\n",
    "    result += tuple2[j:]\n",
    "\n",
    "    return result\n",
    "tuple1 = (7,12)\n",
    "tuple2 = (1,9,50)\n",
    "\n",
    "result = merge(tuple1, tuple2)\n",
    "print(result) "
   ]
  },
  {
   "cell_type": "markdown",
   "id": "e388ad87",
   "metadata": {},
   "source": [
    "Модуль 4.2"
   ]
  },
  {
   "cell_type": "code",
   "execution_count": 37,
   "id": "b1292134",
   "metadata": {},
   "outputs": [
    {
     "name": "stdout",
     "output_type": "stream",
     "text": [
      "[0, 0, 0]\n",
      "[1, 1, 1, 1, 1]\n"
     ]
    }
   ],
   "source": [
    "#Генератор списков\n",
    "def make_list(length, value=0):\n",
    "    return [value] * length\n",
    "result1 = make_list(3)\n",
    "result2 = make_list(5,1)\n",
    "print(result1,result2,sep=\"\\n\")"
   ]
  },
  {
   "cell_type": "code",
   "execution_count": 39,
   "id": "b7ec3b4a",
   "metadata": {},
   "outputs": [
    {
     "name": "stdout",
     "output_type": "stream",
     "text": [
      "[[0, 0, 0], [0, 0, 0], [0, 0, 0]]\n",
      "[[1, 1, 1, 1], [1, 1, 1, 1]]\n"
     ]
    }
   ],
   "source": [
    "#Генератор матриц\n",
    "def make_matrix(size, value=0):\n",
    "    if isinstance(size, tuple):\n",
    "        return [[value for _ in range(size[0])] for _ in range(size[1])]\n",
    "    else:\n",
    "        return [[value for _ in range(size)] for _ in range(size)]\n",
    "result1 = make_matrix(3)\n",
    "result2 = make_matrix((4, 2), 1)\n",
    "print(result1,result2,sep=\"\\n\")"
   ]
  },
  {
   "cell_type": "code",
   "execution_count": 50,
   "id": "bb22d04c",
   "metadata": {},
   "outputs": [
    {
     "name": "stdout",
     "output_type": "stream",
     "text": [
      "3\n",
      "12\n"
     ]
    }
   ],
   "source": [
    "#Функциональный нод 2.0\n",
    "def gcd(a, b):\n",
    "    while b:\n",
    "        a, b = b, a % b\n",
    "    return a\n",
    "\n",
    "\n",
    "def gcd(*numbers):\n",
    "    result = numbers[0]\n",
    "    for num in numbers[1:]:\n",
    "        result = gcd_two(result, num)\n",
    "    return result\n",
    "result1 = gcd(3)\n",
    "result2 = gcd(36, 48, 156, 100500)\n",
    "print(result1,result2,sep=\"\\n\")"
   ]
  },
  {
   "cell_type": "code",
   "execution_count": 54,
   "id": "d62ba1ab",
   "metadata": {},
   "outputs": [
    {
     "name": "stdout",
     "output_type": "stream",
     "text": [
      "January\n",
      "Июль\n"
     ]
    }
   ],
   "source": [
    "#Имя of the month 2.0\n",
    "def month(month_number, language=\"ru\"):\n",
    "    months_ru = [\"январь\", \"февраль\", \"март\", \"апрель\", \"май\", \"июнь\", \"июль\", \"август\", \"сентябрь\", \"октябрь\", \"ноябрь\", \"декабрь\"]\n",
    "    months_en = [\"january\", \"february\", \"march\", \"april\", \"may\", \"june\", \"july\", \"august\", \"september\", \"october\", \"november\", \"december\"]\n",
    "\n",
    "    if language.lower() == \"ru\":\n",
    "        return months_ru[month_number - 1].capitalize()\n",
    "    elif language.lower() == \"en\":\n",
    "        return months_en[month_number - 1].capitalize()\n",
    "    else:\n",
    "        raise ValueError(\"Unsupported language. Use 'ru' or 'en'.\")\n",
    "result_ru = month(7)\n",
    "result_en = month(1, \"en\")\n",
    "print(result_en,result_ru,sep=\"\\n\")"
   ]
  },
  {
   "cell_type": "code",
   "execution_count": 57,
   "id": "5a0c63d6",
   "metadata": {},
   "outputs": [
    {
     "name": "stdout",
     "output_type": "stream",
     "text": [
      "7, 3, 1, hello, (1, 2, 3)!\n"
     ]
    }
   ],
   "source": [
    "#Подготовка данных\n",
    "def to_string(*data, sep=' ', end='\\n'):\n",
    "    data = list(map(str, data))\n",
    "    return sep.join(data) + end\n",
    "data = [7, 3, 1, \"hello\", (1, 2, 3)]\n",
    "result = to_string(*data, sep=\", \", end=\"!\")\n",
    "print(result)"
   ]
  },
  {
   "cell_type": "code",
   "execution_count": 66,
   "id": "1a18c841",
   "metadata": {},
   "outputs": [
    {
     "name": "stdout",
     "output_type": "stream",
     "text": [
      "К сожалению, не можем предложить Вам напиток\n",
      "К сожалению, не можем предложить Вам напиток\n"
     ]
    }
   ],
   "source": [
    "in_stock = {\"coffee\": 1, \"milk\": 2, \"cream\": 3}\n",
    "\n",
    "def order(preferences):\n",
    "    for drink in preferences:\n",
    "        if drink == 'espresso' and in_stock['coffee'] >= 1:\n",
    "            in_stock['coffee'] -= 1\n",
    "            return \"Espresso\"\n",
    "        elif drink == 'cappuccino' and in_stock['coffee'] >= 1 and in_stock['milk'] >= 3:\n",
    "            in_stock['coffee'] -= 1\n",
    "            in_stock['milk'] -= 3\n",
    "            return \"Cappuccino\"\n",
    "        elif drink == 'macchiato' and in_stock['coffee'] >= 2 and in_stock['milk'] >= 1:\n",
    "            in_stock['coffee'] -= 2\n",
    "            in_stock['milk'] -= 1\n",
    "            return \"Macchiato\"\n",
    "        elif drink == 'vienna' and in_stock['coffee'] >= 1 and in_stock['cream'] >= 2:\n",
    "            in_stock['coffee'] -= 1\n",
    "            in_stock['cream'] -= 2\n",
    "            return \"Vienna Coffee\"\n",
    "        elif drink == 'latte_macchiato' and in_stock['coffee'] >= 1 and in_stock['milk'] >= 2 and in_stock['cream'] >= 1:\n",
    "            in_stock['coffee'] -= 1\n",
    "            in_stock['milk'] -= 2\n",
    "            in_stock['cream'] -= 1\n",
    "            return \"Latte Macchiato\"\n",
    "        elif drink == 'con_panna' and in_stock['coffee'] >= 1 and in_stock['cream'] >= 1:\n",
    "            in_stock['coffee'] -= 1\n",
    "            in_stock['cream'] -= 1\n",
    "            return \"Con Panna\"\n",
    "    \n",
    "    return \"К сожалению, не можем предложить Вам напиток\"\n",
    "result1 = order([\"Эспрессо\", \"Капучино\", \"Макиато\", \"Кофе по-венски\", \"Латте Макиато\"])\n",
    "result2 = order([\"Эспрессо\", \"Капучино\", \"Макиато\", \"Кофе по-венски\", \"Латте Макиато\"])\n",
    "print(result1,result2,sep=\"\\n\")"
   ]
  },
  {
   "cell_type": "code",
   "execution_count": 68,
   "id": "972f459c",
   "metadata": {},
   "outputs": [
    {
     "name": "stdout",
     "output_type": "stream",
     "text": [
      "(48.7, 40.13) (24.35, 20.07)\n",
      "(53.9, 47.43) (17.97, 15.81)\n",
      "(58.27, 54.7) (9.71, 9.12)\n"
     ]
    }
   ],
   "source": [
    "# В эфире рубрика «Эксперименты»\n",
    "odd_index_nums = [] \n",
    "even_index_nums = []\n",
    "\n",
    "\n",
    "def enter_results(*numbers):\n",
    "    for i, num in enumerate(numbers):\n",
    "        if i == 0 or i % 2 == 0:\n",
    "            even_index_nums.append(num)\n",
    "        elif i % 2 == 1:\n",
    "            odd_index_nums.append(num)\n",
    "\n",
    "\n",
    "def get_sum():\n",
    "    return (round(sum(even_index_nums), 2), round(sum(odd_index_nums), 2))\n",
    "\n",
    "\n",
    "def get_average():\n",
    "    return (round(sum(even_index_nums) / len(even_index_nums), 2), round(sum(odd_index_nums) / len(odd_index_nums), 2))\n",
    "enter_results(3.5, 2.14, 45.2, 37.99)\n",
    "print(get_sum(), get_average())\n",
    "enter_results(5.2, 7.3)\n",
    "print(get_sum(), get_average())\n",
    "enter_results(1.23, 4.56, 3.14, 2.71, 0, 0)\n",
    "print(get_sum(), get_average())"
   ]
  },
  {
   "cell_type": "code",
   "execution_count": 74,
   "id": "2f42fd5a",
   "metadata": {},
   "outputs": [
    {
     "name": "stdout",
     "output_type": "stream",
     "text": [
      "(14, 'мама мыла раму')\n"
     ]
    }
   ],
   "source": [
    "key=lambda x: (len(x), x.lower())\n",
    "print(key('мама мыла раму'))"
   ]
  },
  {
   "cell_type": "markdown",
   "id": "beca53ac",
   "metadata": {},
   "source": [
    "print(*filter(lambda num: sum(int(digit) for digit in str(num)) % 2 == 0, (1, 2, 3, 4, 5)))"
   ]
  },
  {
   "cell_type": "markdown",
   "id": "542dc07e",
   "metadata": {},
   "source": [
    "Модуль 4.3"
   ]
  },
  {
   "cell_type": "code",
   "execution_count": 77,
   "id": "3a0b09b8",
   "metadata": {},
   "outputs": [
    {
     "name": "stdout",
     "output_type": "stream",
     "text": [
      "23\n"
     ]
    }
   ],
   "source": [
    "# Рекурсивный сумматор\n",
    "def recursive_sum(*args):\n",
    "    if not args:\n",
    "        return 0\n",
    "    else:\n",
    "        return args[0] + recursive_sum(*args[1:])\n",
    "    \n",
    "result = recursive_sum(7, 1, 3, 2, 10)\n",
    "print(result)"
   ]
  },
  {
   "cell_type": "code",
   "execution_count": 78,
   "id": "1c395470",
   "metadata": {},
   "outputs": [
    {
     "name": "stdout",
     "output_type": "stream",
     "text": [
      "6\n"
     ]
    }
   ],
   "source": [
    "# Рекурсивный сумматор цифр\n",
    "def recursive_digit_sum(num):\n",
    "    if not num:\n",
    "        return 0\n",
    "    return int(str(num)[0]) + recursive_digit_sum(str(num)[1:])\n",
    "result = recursive_digit_sum(123)\n",
    "print(result)"
   ]
  },
  {
   "cell_type": "code",
   "execution_count": 80,
   "id": "31f882c5",
   "metadata": {},
   "outputs": [
    {
     "name": "stdout",
     "output_type": "stream",
     "text": [
      "((3) * x + 2) * x + 1\n"
     ]
    }
   ],
   "source": [
    "# Многочлен N-ой степени\n",
    "def make_equation(*args):\n",
    "    if not args:\n",
    "        return \"\"\n",
    "    elif len(args) == 1:\n",
    "        return str(args[0])\n",
    "    else:\n",
    "        return f'({make_equation(*args[:-1])}) * x + {args[-1]}'\n",
    "result = make_equation(3, 2, 1)\n",
    "print(result)"
   ]
  },
  {
   "cell_type": "code",
   "execution_count": 82,
   "id": "bf2c2515",
   "metadata": {},
   "outputs": [
    {
     "name": "stdout",
     "output_type": "stream",
     "text": [
      "Результат функции: dehlorw\n",
      "Результат функции: адекортуыэ\n"
     ]
    }
   ],
   "source": [
    "# Декор результата\n",
    "def answer(func):\n",
    "    def wrapper(*args, **kwargs):\n",
    "        result = func(*args, **kwargs)\n",
    "        return f\"Результат функции: {result}\"\n",
    "    return wrapper\n",
    "@answer\n",
    "def get_letters(text: str) -> str:\n",
    "    return ''.join(sorted(set(filter(str.isalpha, text.lower()))))\n",
    "\n",
    "\n",
    "print(get_letters('Hello, world!'))\n",
    "print(get_letters('Декораторы это круто =)'))"
   ]
  },
  {
   "cell_type": "code",
   "execution_count": 83,
   "id": "e5071063",
   "metadata": {},
   "outputs": [
    {
     "name": "stdout",
     "output_type": "stream",
     "text": [
      "None\n",
      "None\n",
      "[8, 16, 2]\n",
      "None\n",
      "[-6, 45]\n"
     ]
    }
   ],
   "source": [
    "# Накопление результата\n",
    "def result_accumulator(func):\n",
    "    answers = []\n",
    "\n",
    "    def wrapper(*args, method='accumulate'):\n",
    "        nonlocal answers \n",
    "        result = func(*args)\n",
    "        answers.append(result)\n",
    "        if method == 'accumulate':\n",
    "            pass\n",
    "        elif method == 'drop':\n",
    "            accumulated_results = answers.copy()\n",
    "            answers = [] \n",
    "            return accumulated_results\n",
    "\n",
    "    return wrapper\n",
    "@result_accumulator\n",
    "def a_plus_b(a, b):\n",
    "    return a + b\n",
    "\n",
    "\n",
    "print(a_plus_b(3, 5, method=\"accumulate\"))\n",
    "print(a_plus_b(7, 9))\n",
    "print(a_plus_b(-3, 5, method=\"drop\"))\n",
    "print(a_plus_b(1, -7))\n",
    "print(a_plus_b(10, 35, method=\"drop\"))"
   ]
  },
  {
   "cell_type": "code",
   "execution_count": 84,
   "id": "7d0ab27d",
   "metadata": {},
   "outputs": [
    {
     "name": "stdout",
     "output_type": "stream",
     "text": [
      "[1, 2, 3]\n"
     ]
    }
   ],
   "source": [
    "# Сортировка слиянием\n",
    "def merge_sort(arr):\n",
    "    if len(arr) <= 1:\n",
    "        return arr\n",
    "\n",
    "    mid = len(arr) // 2\n",
    "    left_half = arr[:mid]\n",
    "    right_half = arr[mid:]\n",
    "    \n",
    "    left_half = merge_sort(left_half)\n",
    "    right_half = merge_sort(right_half)\n",
    "\n",
    "    return merge(left_half, right_half)\n",
    "\n",
    "\n",
    "def merge(arr1, arr2):\n",
    "    result = []\n",
    "    i, j = 0, 0\n",
    "    while i < len(arr1) and j < len(arr2):\n",
    "        if arr1[i] < arr2[j]:\n",
    "            result.append(arr1[i])\n",
    "            i += 1\n",
    "        else:\n",
    "            result.append(arr2[j])\n",
    "            j += 1\n",
    "    if i < len(arr1):\n",
    "        result.extend(arr1[i:])\n",
    "    if j < len(arr2):\n",
    "        result.extend(arr2[j:])\n",
    "\n",
    "    return result\n",
    "result = merge_sort([3, 2, 1])\n",
    "print(result)"
   ]
  },
  {
   "cell_type": "code",
   "execution_count": 85,
   "id": "7c47370b",
   "metadata": {},
   "outputs": [
    {
     "name": "stdout",
     "output_type": "stream",
     "text": [
      "Обнаружены различные типы данных\n",
      "Fail\n",
      "Обнаружены различные типы данных\n",
      "Fail\n",
      "2\n"
     ]
    }
   ],
   "source": [
    "# Однотипность не порок\n",
    "def same_type(func):\n",
    "    def wrapper(*args):\n",
    "        for i in range(len(args) - 1):\n",
    "            if not isinstance(args[i], type(args[i + 1])):\n",
    "                return \"Обнаружены различные типы данных\\nFail\"\n",
    "        result = func(*args)\n",
    "        return result\n",
    "\n",
    "    return wrapper\n",
    "@same_type\n",
    "def a_plus_b(a, b):\n",
    "    return a + b\n",
    "\n",
    "\n",
    "print(a_plus_b(3, 5.2) or 'Fail')\n",
    "print(a_plus_b(7, '9') or 'Fail')\n",
    "print(a_plus_b(-3, 5) or 'Fail')"
   ]
  },
  {
   "cell_type": "code",
   "execution_count": 86,
   "id": "8dac9638",
   "metadata": {},
   "outputs": [
    {
     "name": "stdout",
     "output_type": "stream",
     "text": [
      "0 1 1 2 3\n"
     ]
    }
   ],
   "source": [
    "# Генератор Фибоначчи\n",
    "def fibonacci(count):\n",
    "    a, b = 0, 1\n",
    "    for _ in range(count):\n",
    "        yield a\n",
    "        a, b = b, a + b\n",
    "print(*fibonacci(5))"
   ]
  },
  {
   "cell_type": "code",
   "execution_count": 88,
   "id": "3c0d2569",
   "metadata": {},
   "outputs": [
    {
     "name": "stdout",
     "output_type": "stream",
     "text": [
      "1 2 3 1 2\n"
     ]
    }
   ],
   "source": [
    "# Циклический генератор\n",
    "def cycle(iterable):\n",
    "    index = 0\n",
    "    length = len(iterable)\n",
    "    while True:\n",
    "        yield iterable[index]\n",
    "        index = (index + 1) % length\n",
    "gen = cycle([1, 2, 3])\n",
    "result = [next(gen) for _ in range(5)]\n",
    "print(*result)"
   ]
  },
  {
   "cell_type": "code",
   "execution_count": 89,
   "id": "a8a77e40",
   "metadata": {},
   "outputs": [
    {
     "name": "stdout",
     "output_type": "stream",
     "text": [
      "[1, 2, 3]\n"
     ]
    }
   ],
   "source": [
    "# \"Выпрямление\" списка\n",
    "def make_linear(lst): \n",
    "    result = []\n",
    "    for item in lst: \n",
    "        if isinstance(item, list):\n",
    "            result.extend(make_linear(item))\n",
    "        else:\n",
    "            result.append(item)\n",
    "    return result\n",
    "result = make_linear([1, 2, [3]])\n",
    "print(result)"
   ]
  },
  {
   "cell_type": "code",
   "execution_count": null,
   "id": "b1cc2ec3",
   "metadata": {},
   "outputs": [],
   "source": []
  }
 ],
 "metadata": {
  "kernelspec": {
   "display_name": "Python 3 (ipykernel)",
   "language": "python",
   "name": "python3"
  },
  "language_info": {
   "codemirror_mode": {
    "name": "ipython",
    "version": 3
   },
   "file_extension": ".py",
   "mimetype": "text/x-python",
   "name": "python",
   "nbconvert_exporter": "python",
   "pygments_lexer": "ipython3",
   "version": "3.11.5"
  }
 },
 "nbformat": 4,
 "nbformat_minor": 5
}
